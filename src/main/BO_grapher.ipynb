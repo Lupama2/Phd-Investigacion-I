{
 "cells": [
  {
   "cell_type": "markdown",
   "id": "c894f4fd",
   "metadata": {},
   "source": [
    "# Graficador\n",
    "\n",
    "## Grafico study"
   ]
  },
  {
   "cell_type": "code",
   "execution_count": 8,
   "id": "2675d756",
   "metadata": {},
   "outputs": [],
   "source": [
    "#Import libraries\n",
    "import pickle\n",
    "import optuna"
   ]
  },
  {
   "cell_type": "code",
   "execution_count": 9,
   "id": "fcd6763f",
   "metadata": {},
   "outputs": [],
   "source": [
    "#Load study\n",
    "folder = \"../../data/outputs/\"\n",
    "file = \"study.db\"\n",
    "\n",
    "study = optuna.load_study(study_name=\"study\", storage=f\"sqlite:///{folder}{file}\")\n",
    "\n"
   ]
  },
  {
   "cell_type": "code",
   "execution_count": 10,
   "id": "a1e98df4",
   "metadata": {},
   "outputs": [
    {
     "name": "stdout",
     "output_type": "stream",
     "text": [
      "FrozenTrial(number=519, state=1, values=[16402.698832949318], datetime_start=datetime.datetime(2025, 5, 29, 10, 7, 36, 470630), datetime_complete=datetime.datetime(2025, 5, 29, 10, 7, 38, 704459), params={'A_ps': 97896.3423274425, 'f_ps': 3785.66804902374}, user_attrs={}, system_attrs={}, intermediate_values={}, distributions={'A_ps': FloatDistribution(high=98000.0, log=True, low=1.0, step=None), 'f_ps': FloatDistribution(high=2000000.0, log=True, low=1000.0, step=None)}, trial_id=520, value=None)\n",
      "Objective result: 16402.698832949318\n",
      "Best hyperparameters: {'A_ps': 97896.3423274425, 'f_ps': 3785.66804902374}\n"
     ]
    }
   ],
   "source": [
    "trial = study.best_trial\n",
    "\n",
    "print(trial)\n",
    "print('Objective result: {}'.format(trial.value))\n",
    "print(\"Best hyperparameters: {}\".format(trial.params))\n"
   ]
  },
  {
   "cell_type": "code",
   "execution_count": 11,
   "id": "a0deeee1",
   "metadata": {},
   "outputs": [
    {
     "data": {
      "text/plain": [
       "'../../data/outputs/optimization_history.html'"
      ]
     },
     "execution_count": 11,
     "metadata": {},
     "output_type": "execute_result"
    }
   ],
   "source": [
    "import plotly\n",
    "\n",
    "#Grafico\n",
    "from optuna.visualization import plot_optimization_history, plot_slice, plot_contour\n",
    "\n",
    "\n",
    "fig = plot_optimization_history(study);\n",
    "#Guardo el grafico\n",
    "plotly.offline.plot(fig, filename= folder + 'optimization_history.html')\n",
    "\n"
   ]
  },
  {
   "cell_type": "code",
   "execution_count": 12,
   "id": "1b209aba",
   "metadata": {},
   "outputs": [
    {
     "data": {
      "text/plain": [
       "'../../data/outputs/slice.html'"
      ]
     },
     "execution_count": 12,
     "metadata": {},
     "output_type": "execute_result"
    }
   ],
   "source": [
    "fig = plot_slice(study);\n",
    "#Guardo el grafico\n",
    "plotly.offline.plot(fig, filename=folder + 'slice.html')\n"
   ]
  },
  {
   "cell_type": "code",
   "execution_count": 13,
   "id": "d8846633",
   "metadata": {},
   "outputs": [
    {
     "data": {
      "text/plain": [
       "'../../data/outputs/contour_N_bubston_vs_R1.html'"
      ]
     },
     "execution_count": 13,
     "metadata": {},
     "output_type": "execute_result"
    }
   ],
   "source": [
    "fig = plot_contour(study, params=['A_ps', 'f_ps']);\n",
    "\n",
    "#Guardo el grafico\n",
    "plotly.offline.plot(fig, filename=folder + 'contour_N_bubston_vs_R1.html')\n"
   ]
  },
  {
   "cell_type": "code",
   "execution_count": null,
   "id": "04ab69e7",
   "metadata": {},
   "outputs": [],
   "source": []
  }
 ],
 "metadata": {
  "kernelspec": {
   "display_name": "Phd-IB-Inv1",
   "language": "python",
   "name": "python3"
  },
  "language_info": {
   "codemirror_mode": {
    "name": "ipython",
    "version": 3
   },
   "file_extension": ".py",
   "mimetype": "text/x-python",
   "name": "python",
   "nbconvert_exporter": "python",
   "pygments_lexer": "ipython3",
   "version": "3.13.2"
  }
 },
 "nbformat": 4,
 "nbformat_minor": 5
}
