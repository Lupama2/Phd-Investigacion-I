{
 "cells": [
  {
   "cell_type": "markdown",
   "id": "c894f4fd",
   "metadata": {},
   "source": [
    "# Graficador\n",
    "\n",
    "## Grafico study"
   ]
  },
  {
   "cell_type": "code",
   "execution_count": 11,
   "id": "2675d756",
   "metadata": {},
   "outputs": [],
   "source": [
    "#Import libraries\n",
    "import pickle\n",
    "import optuna"
   ]
  },
  {
   "cell_type": "code",
   "execution_count": 12,
   "id": "fcd6763f",
   "metadata": {},
   "outputs": [],
   "source": [
    "#Load study\n",
    "folder = \"../../data/outputs/\"\n",
    "file = \"study.db\"\n",
    "\n",
    "study = optuna.load_study(study_name=\"study\", storage=f\"sqlite:///{folder}{file}\")\n",
    "\n"
   ]
  },
  {
   "cell_type": "code",
   "execution_count": 13,
   "id": "a1e98df4",
   "metadata": {},
   "outputs": [
    {
     "name": "stdout",
     "output_type": "stream",
     "text": [
      "FrozenTrial(number=227, state=1, values=[24514.880803746084], datetime_start=datetime.datetime(2025, 5, 29, 10, 35, 13, 448174), datetime_complete=datetime.datetime(2025, 5, 29, 10, 35, 15, 78960), params={'A_ps': 97432.27696580446, 'f_ps': 2816.744754764299, 'd_ps': 0.3550982481946238}, user_attrs={}, system_attrs={}, intermediate_values={}, distributions={'A_ps': FloatDistribution(high=98000.0, log=True, low=1.0, step=None), 'f_ps': FloatDistribution(high=2000000.0, log=True, low=1000.0, step=None), 'd_ps': FloatDistribution(high=6.283185307179586, log=False, low=0.0, step=None)}, trial_id=228, value=None)\n",
      "Objective result: 24514.880803746084\n",
      "Best hyperparameters: {'A_ps': 97432.27696580446, 'f_ps': 2816.744754764299, 'd_ps': 0.3550982481946238}\n"
     ]
    }
   ],
   "source": [
    "trial = study.best_trial\n",
    "\n",
    "print(trial)\n",
    "print('Objective result: {}'.format(trial.value))\n",
    "print(\"Best hyperparameters: {}\".format(trial.params))\n"
   ]
  },
  {
   "cell_type": "code",
   "execution_count": 14,
   "id": "a0deeee1",
   "metadata": {},
   "outputs": [
    {
     "data": {
      "text/plain": [
       "'../../data/outputs/optimization_history.html'"
      ]
     },
     "execution_count": 14,
     "metadata": {},
     "output_type": "execute_result"
    }
   ],
   "source": [
    "import plotly\n",
    "\n",
    "#Grafico\n",
    "from optuna.visualization import plot_optimization_history, plot_slice, plot_contour\n",
    "\n",
    "\n",
    "fig = plot_optimization_history(study);\n",
    "#Guardo el grafico\n",
    "plotly.offline.plot(fig, filename= folder + 'optimization_history.html')\n",
    "\n"
   ]
  },
  {
   "cell_type": "code",
   "execution_count": 15,
   "id": "1b209aba",
   "metadata": {},
   "outputs": [
    {
     "data": {
      "text/plain": [
       "'../../data/outputs/slice.html'"
      ]
     },
     "execution_count": 15,
     "metadata": {},
     "output_type": "execute_result"
    }
   ],
   "source": [
    "fig = plot_slice(study);\n",
    "#Guardo el grafico\n",
    "plotly.offline.plot(fig, filename=folder + 'slice.html')\n"
   ]
  },
  {
   "cell_type": "code",
   "execution_count": 16,
   "id": "d8846633",
   "metadata": {},
   "outputs": [
    {
     "data": {
      "text/plain": [
       "'../../data/outputs/contour_A_ps_vs_f_ps.html'"
      ]
     },
     "execution_count": 16,
     "metadata": {},
     "output_type": "execute_result"
    }
   ],
   "source": [
    "fig = plot_contour(study, params=['A_ps', 'f_ps']);\n",
    "\n",
    "#Guardo el grafico\n",
    "plotly.offline.plot(fig, filename=folder + 'contour_A_ps_vs_f_ps.html')\n"
   ]
  },
  {
   "cell_type": "code",
   "execution_count": 17,
   "id": "04ab69e7",
   "metadata": {},
   "outputs": [
    {
     "data": {
      "text/plain": [
       "'../../data/outputs/contour_f_ps_vs_d_ps.html'"
      ]
     },
     "execution_count": 17,
     "metadata": {},
     "output_type": "execute_result"
    }
   ],
   "source": [
    "fig = plot_contour(study, params=['f_ps', 'd_ps']);\n",
    "\n",
    "#Guardo el grafico\n",
    "plotly.offline.plot(fig, filename=folder + 'contour_f_ps_vs_d_ps.html')"
   ]
  }
 ],
 "metadata": {
  "kernelspec": {
   "display_name": "Phd-IB-Inv1",
   "language": "python",
   "name": "python3"
  },
  "language_info": {
   "codemirror_mode": {
    "name": "ipython",
    "version": 3
   },
   "file_extension": ".py",
   "mimetype": "text/x-python",
   "name": "python",
   "nbconvert_exporter": "python",
   "pygments_lexer": "ipython3",
   "version": "3.13.2"
  }
 },
 "nbformat": 4,
 "nbformat_minor": 5
}
