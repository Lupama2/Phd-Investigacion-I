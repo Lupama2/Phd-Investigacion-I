{
 "cells": [
  {
   "cell_type": "markdown",
   "metadata": {},
   "source": [
    "# Aprendizaje supervisado en redes multicapa\n",
    "\n",
    "\n",
    "date: 11/02/2025  \n",
    "File: MeuralNetworks_introduction.ipynb  \n",
    "Author : Pablo Naim Chehade   \n",
    "Email: pablo.chehade.villalba@gmail.com  \n",
    "GitHub: https://github.com/Lupama2  \n",
    "\n"
   ]
  },
  {
   "cell_type": "markdown",
   "metadata": {},
   "source": [
    "Emplearemos la siguiente Red Neuronal para aprender la regla XOR. La regla XOR tiene dos entradas (+1 o -1) y la salida es -1 si ambas son diferentes y +1 si ambas son iguales. La red neuronal tiene dos neuronas en la capa de entrada, dos neuronas en la capa oculta y una neurona en la capa de salida. Además, se añaden dos unidades de entrada adicional para simular los umbrales (bias). Como fuinción de activación se emplea la tangente hiperbólica.\n"
   ]
  },
  {
   "attachments": {
    "image.png": {
     "image/png": "[encoded data removed]"
    }
   },
   "cell_type": "markdown",
   "metadata": {},
   "source": [
    "![image.png](attachment:image.png)"
   ]
  },
  {
   "cell_type": "markdown",
   "metadata": {},
   "source": [
    "### Importo dependencias"
   ]
  },
  {
   "cell_type": "code",
   "execution_count": 1,
   "metadata": {},
   "outputs": [],
   "source": [
    "#Import libraries\n",
    "import numpy as np\n",
    "import matplotlib\n",
    "import matplotlib.pyplot as plt\n",
    "\n",
    "#Hago los gráficos interactivos\n",
    "# %matplotlib ipympl\n",
    "\n",
    "#Fuente y tamaño de los caracteres en los gráficos\n",
    "font = {'family' : 'Arial',\n",
    "        'weight' : 'normal',\n",
    "        'size'   : 17}\n",
    "matplotlib.rc('font', **font)"
   ]
  },
  {
   "cell_type": "markdown",
   "metadata": {},
   "source": [
    "### Defino datos"
   ]
  },
  {
   "cell_type": "code",
   "execution_count": 2,
   "metadata": {},
   "outputs": [],
   "source": [
    "#Def regla XOR\n",
    "def XOR(x1, x2):\n",
    "    #x1, x2: +1 o -1\n",
    "    if x1 == x2:\n",
    "        return 1\n",
    "    else:\n",
    "        return -1\n",
    "\n",
    "#Def datos x e y\n",
    "x_data = np.empty([4, 2])\n",
    "y_data = np.empty(4)\n",
    "\n",
    "x_data[0] = np.array([1,1])\n",
    "x_data[1] = np.array([1,-1])\n",
    "x_data[2] = np.array([-1,1])\n",
    "x_data[3] = np.array([-1,-1])\n",
    "\n",
    "for i in range(len(y_data)):\n",
    "    y_data[i] = XOR(x_data[i][0], x_data[i][1])\n"
   ]
  },
  {
   "cell_type": "markdown",
   "metadata": {},
   "source": [
    "### Defino funciones"
   ]
  },
  {
   "cell_type": "code",
   "execution_count": 3,
   "metadata": {},
   "outputs": [],
   "source": [
    "#Def la aplicación de una red\n",
    "def red_forward(x_test, red):\n",
    "    V_0 = np.concatenate((x_test, np.array([-1])), axis = 0) #Agrego el bias 3x1\n",
    "    for j in range(len(red[\"pesos\"])):\n",
    "        w = red[\"pesos\"][j]\n",
    "        h = np.dot(w.T, V_0)\n",
    "        if j != len(red[\"pesos\"]) - 1:\n",
    "            V_1 = np.concatenate((g(h), np.array([-1])), axis = 0) #3x1\n",
    "        else: #Si estoy en la última capa\n",
    "            V_1 = g(h)\n",
    "        V_0 = V_1\n",
    "    return V_1[0]\n",
    "\n",
    "#Def función de validación\n",
    "def validacion(x_test, y_test, red):\n",
    "    error = 0\n",
    "\n",
    "    for i in range(len(y_test)):\n",
    "        #Forward pass\n",
    "        y_out = red_forward(x_test[i], red)\n",
    "\n",
    "        #Aproximo y_out para que sea +1 o -1\n",
    "        if y_out >= 0:\n",
    "            y_out = 1\n",
    "        else:\n",
    "            y_out = -1\n",
    "\n",
    "        #Calculo el error\n",
    "        error += np.abs(y_test[i] - np.round(y_out))/2 #Da 0 si no hay error y 1 si hay error\n",
    "\n",
    "\n",
    "    return error/len(y_test)\n",
    "\n",
    "def training_loss(x_test, y_test, red):\n",
    "    error = 0\n",
    "\n",
    "    for i in range(len(y_test)):\n",
    "        #Forward pass\n",
    "        y_out = red_forward(x_test[i], red)\n",
    "        #Calculo el error\n",
    "        error += (y_test[i] - y_out)**2\n",
    "\n",
    "    return error/2\n",
    "\n",
    "#Def función de transferencia\n",
    "def g(h_vec):\n",
    "    return np.tanh(h_vec)\n",
    "\n",
    "def g_prima(h_vec):\n",
    "    return 1 - g(h_vec)**2"
   ]
  },
  {
   "cell_type": "markdown",
   "metadata": {},
   "source": [
    "### Def redes"
   ]
  },
  {
   "cell_type": "markdown",
   "metadata": {},
   "source": [
    "### Back-propagation"
   ]
  },
  {
   "cell_type": "code",
   "execution_count": 4,
   "metadata": {},
   "outputs": [],
   "source": [
    "\n",
    "#Def algoritmo de retropropagación de errores\n",
    "def back_propagation(x_data, y_data, red, eta):\n",
    "    #Se usa la nomenclatura del Hertz\n",
    "\n",
    "    #Loop sobre las muestras\n",
    "    for i in range(len(y_data)):   \n",
    "        #Forward pass\n",
    "        V_0 = np.concatenate((x_data[i], np.array([-1])), axis = 0) #Agrego el bias 3x1\n",
    "        w_1 = red[\"pesos\"][0] #3x2\n",
    "        \n",
    "        h_1 = np.dot(w_1.T, V_0) #2x1\n",
    "        V_1 = np.concatenate((g(h_1), np.array([-1])), axis = 0) #3x1\n",
    "\n",
    "        w_2 = red[\"pesos\"][1] #3x1\n",
    "        h_2 = np.dot(w_2.T, V_1) #1x1\n",
    "        V_2 = g(h_2) #1x1\n",
    "\n",
    "        #Backward\n",
    "        #Calculo el error de la capa de salida\n",
    "        delta_2 = g_prima(h_2)*(y_data[i] - V_2) #1x1\n",
    "\n",
    "        #Calculo el error de la capa oculta\n",
    "        # delta_1 = g_prima(h_1)*np.dot(w_2, delta_2) #\n",
    "        delta_1 = np.concatenate([g_prima(h_1),np.array([1])])*np.dot(w_2, delta_2) #3x1\n",
    "\n",
    "        #Actualizo pesos\n",
    "        w_1 += eta * np.outer(V_0, delta_1[:-1]) #3x2\n",
    "        w_2 += eta * np.outer(V_1, delta_2)\n",
    "        if red[\"name\"] == \"B\":\n",
    "            #Tengo que fijar algunos elementos de los pesos para que no varíen\n",
    "            w_1[0,0] = 1; w_1[0,2] = 0\n",
    "            w_1[1,0] = 0; w_1[1,2] = 1\n",
    "            w_1[2,0] = 0; w_1[2,2] = 0\n",
    "        \n",
    "        red[\"pesos\"] = [w_1, w_2]\n",
    "\n",
    "    return red\n",
    "\n",
    "#Def algoritmo de aprendizaje\n",
    "def aprendizaje(x_data, y_data, red, eta, epochs = 1):\n",
    "    #Def array de errores\n",
    "    training_loss_vec = np.empty(epochs)\n",
    "    validation_loss_vec = np.empty(epochs)\n",
    "\n",
    "    #Loop sobre las epochs\n",
    "    for i in range(epochs):\n",
    "        #Backpropagation\n",
    "        red = back_propagation(x_data, y_data, red, eta)\n",
    "        \n",
    "        #Cálculo de errores\n",
    "        training_loss_vec[i] = training_loss(x_data, y_data, red)\n",
    "        validation_loss_vec[i] = validacion(x_data, y_data, red)\n",
    "\n",
    "\n",
    "    return red, training_loss_vec, validation_loss_vec\n"
   ]
  },
  {
   "cell_type": "markdown",
   "metadata": {},
   "source": [
    "### Aprendizaje\n",
    "\n",
    "Para cada arquitectura repito el entrenamiento con 10 condiciones iniciales distintas"
   ]
  },
  {
   "cell_type": "code",
   "execution_count": 5,
   "metadata": {},
   "outputs": [],
   "source": [
    "np.random.seed(1) #def seed"
   ]
  },
  {
   "cell_type": "code",
   "execution_count": 6,
   "metadata": {},
   "outputs": [],
   "source": [
    "N_epochs = 100 #nro de epochs que voy a entrenar\n",
    "\n",
    "def red_A(w_ini_max):\n",
    "    #Cambia en cada llamada por los nros random\n",
    "    return {\"name\": \"A\", \"input\":2, \"hidden\":2, \"output\":1, \"pesos\":[np.random.rand(3,2)*w_ini_max, np.random.rand(3,1)*w_ini_max]}\n",
    "\n",
    "\n",
    "def aprendizaje_redes(N_epochs, red, x_data, y_data, eta = 0.1):\n",
    "    #red escrita como función, de modo de que cambie los pesos en cada CI\n",
    "\n",
    "    w_ini_max = 1 #peso máximo en la inicialización\n",
    "\n",
    "    training_loss = np.empty([N_epochs])\n",
    "    validation_loss = np.empty([N_epochs])\n",
    "\n",
    "\n",
    "    #Entreno red\n",
    "    model_A = aprendizaje(x_data, y_data, red(w_ini_max), eta, epochs = N_epochs)\n",
    "\n",
    "    #Guardo el error\n",
    "    training_loss = model_A[1]\n",
    "    validation_loss = model_A[2]\n",
    "\n",
    "    #Guardo la red\n",
    "    red_final = model_A[0]\n",
    "\n",
    "    return training_loss,validation_loss, red_final\n",
    "\n",
    "A_training_loss, A_validation_loss, A_red_final = aprendizaje_redes(N_epochs, red_A, x_data, y_data)\n"
   ]
  },
  {
   "cell_type": "code",
   "execution_count": 7,
   "metadata": {},
   "outputs": [
    {
     "data": {
      "image/png": "[encoded data removed]",
      "text/plain": [
       "<Figure size 800x600 with 2 Axes>"
      ]
     },
     "metadata": {},
     "output_type": "display_data"
    }
   ],
   "source": [
    "#Grafico\n",
    "\n",
    "fig, ax = plt.subplots(2, 1, figsize = (8,6), sharex=True)\n",
    "fig.subplots_adjust(hspace=0.02)\n",
    "\n",
    "ax[0].plot(A_training_loss, color = \"tab:blue\")\n",
    "ax[1].plot(A_validation_loss, color = \"tab:blue\")\n",
    "\n",
    "#Decoración\n",
    "ax[1].set_xlabel(\"Epoch\")\n",
    "ax[0].set_ylabel(\"Error de\\nentrenamiento\")\n",
    "ax[1].set_ylabel(\"Error de\\nprecisión\")\n",
    "\n",
    "ax[0].grid(); ax[1].grid()\n",
    "\n",
    "\n",
    "ax[0].set_ylim([0, 1.1*np.max(A_training_loss)])\n",
    "ax[1].set_ylim([0, 0.5])\n",
    "\n",
    "plt.show()\n",
    "\n",
    "\n"
   ]
  }
 ],
 "metadata": {
  "kernelspec": {
   "display_name": "Phd_Cav_IA_GD",
   "language": "python",
   "name": "python3"
  },
  "language_info": {
   "codemirror_mode": {
    "name": "ipython",
    "version": 3
   },
   "file_extension": ".py",
   "mimetype": "text/x-python",
   "name": "python",
   "nbconvert_exporter": "python",
   "pygments_lexer": "ipython3",
   "version": "3.12.8"
  },
  "orig_nbformat": 4
 },
 "nbformat": 4,
 "nbformat_minor": 2
}
